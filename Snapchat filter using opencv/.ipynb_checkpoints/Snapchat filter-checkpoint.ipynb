{
 "cells": [
  {
   "cell_type": "code",
   "execution_count": 1,
   "metadata": {},
   "outputs": [],
   "source": [
    "import cv2\n",
    "import numpy as np\n",
    "import pandas as pd"
   ]
  },
  {
   "cell_type": "code",
   "execution_count": 2,
   "metadata": {},
   "outputs": [
    {
     "data": {
      "text/plain": [
       "array([[[180, 202, 219, 255],\n",
       "        [181, 203, 220, 255],\n",
       "        [180, 202, 219, 255],\n",
       "        ...,\n",
       "        [175, 197, 215, 255],\n",
       "        [174, 199, 216, 255],\n",
       "        [173, 199, 214, 255]],\n",
       "\n",
       "       [[180, 202, 219, 255],\n",
       "        [181, 203, 220, 255],\n",
       "        [180, 202, 219, 255],\n",
       "        ...,\n",
       "        [176, 198, 215, 255],\n",
       "        [175, 199, 216, 255],\n",
       "        [173, 199, 214, 255]],\n",
       "\n",
       "       [[180, 202, 219, 255],\n",
       "        [181, 203, 220, 255],\n",
       "        [180, 202, 219, 255],\n",
       "        ...,\n",
       "        [176, 198, 215, 255],\n",
       "        [175, 199, 216, 255],\n",
       "        [173, 199, 214, 255]],\n",
       "\n",
       "       ...,\n",
       "\n",
       "       [[  1,   2,   6, 255],\n",
       "        [  0,   1,   5, 255],\n",
       "        [  1,   2,   6, 255],\n",
       "        ...,\n",
       "        [ 21,  21,  27, 255],\n",
       "        [ 20,  20,  26, 255],\n",
       "        [ 10,  10,  17, 255]],\n",
       "\n",
       "       [[  2,   3,   7, 255],\n",
       "        [  1,   2,   6, 255],\n",
       "        [  0,   1,   5, 255],\n",
       "        ...,\n",
       "        [ 16,  16,  22, 255],\n",
       "        [ 15,  15,  21, 255],\n",
       "        [ 16,  16,  22, 255]],\n",
       "\n",
       "       [[  2,   3,   7, 255],\n",
       "        [  0,   1,   5, 255],\n",
       "        [  0,   1,   5, 255],\n",
       "        ...,\n",
       "        [ 13,  13,  19, 255],\n",
       "        [ 15,  15,  21, 255],\n",
       "        [ 15,  15,  22, 255]]], dtype=uint8)"
      ]
     },
     "execution_count": 2,
     "metadata": {},
     "output_type": "execute_result"
    }
   ],
   "source": [
    "face_cascade = cv2.CascadeClassifier(\"haarcascade_frontalface_default.xml\")\n",
    "eyes_cascade = cv2.CascadeClassifier(\"eyes.xml\")\n",
    "nose_cascade = cv2.CascadeClassifier(\"nose.xml\")\n",
    "\n",
    "img = cv2.imread('Before.png')\n",
    "mustache = cv2.imread('mustache.png',-1)\n",
    "glasses = cv2.imread('glasses.png',-1)\n",
    "\n",
    "gray = cv2.cvtColor(img, cv2.COLOR_BGR2GRAY)\n",
    "img = cv2.cvtColor(img, cv2.COLOR_BGR2BGRA)#make picture gray\n",
    "img"
   ]
  },
  {
   "cell_type": "code",
   "execution_count": 3,
   "metadata": {},
   "outputs": [
    {
     "name": "stdout",
     "output_type": "stream",
     "text": [
      "(192, 185, 4)\n"
     ]
    }
   ],
   "source": [
    "faces = face_cascade.detectMultiScale(gray, 1.3, 5)\n",
    "\n",
    "for (x,y,w,h) in faces:\n",
    "\troi_gray = gray[y:y+h, x:x+w]\n",
    "\troi_color = img[y:y+h, x:x+w]\n",
    "\t#cv2.rectangle(img,(x,y),(x+w,y+h),(255,255,0),2)\n",
    "\n",
    "\n",
    "\teyes = eyes_cascade.detectMultiScale(roi_gray,1.3,5)\n",
    "\t\n",
    "\tfor(ex,ey,ew,eh) in eyes:\n",
    "\t\t#cv2.rectangle(roi_color,(ex, ey), (ex+ew, ey+eh),(0,255,0),3)\n",
    "\t\t\n",
    "\t\troi_eyes = roi_gray[ey:ey+eh, ex:ex+w]\n",
    "\n",
    "\t\tglasses2 = cv2.resize(glasses.copy(),(int(1.1*ew),int(2.5*eh)))\n",
    "\t\tprint(glasses2.shape)\n",
    "\t\tgw, gh, gc = glasses2.shape\n",
    "\t\tfor i in range(0,gw):\n",
    "\t\t\tfor j in range(0,gh):\n",
    "\t\t\t\tif glasses2[i,j][3] != 0:\n",
    "\t\t\t\t\troi_color[ ey - int(eh/1.5)+i, int(ex)+j] = glasses2[i, j]\n",
    "\t\n",
    "\t\n",
    "\n",
    "\n",
    "\n",
    "\n",
    "\tnose = nose_cascade.detectMultiScale(roi_gray, 1.3, 5)\n",
    "\tfor (nx, ny, nw, nh) in nose:\n",
    "\t\t#cv2.rectangle(roi_color, (nx, ny), (nx + nw, ny + nh), (255, 0, 0), 3)\n",
    "\t\troi_nose = roi_gray[ny: ny+nh, nx:nx+nw]\n",
    "\t\tmustache2 = cv2.resize(mustache.copy(),(nw,int(0.5*ny)))\n",
    "\n",
    "\t\tmw, mh, mc = mustache2.shape\n",
    "\t\tfor i in range(0,mw):\n",
    "\t\t\tfor j in range(0,mh):\n",
    "\t\t\t\tif mustache2[i,j][3] != 0:\n",
    "\t\t\t\t\troi_color[ny + int(nh/1.5) + i, nx+j] = mustache2[i,j]\n",
    "\n",
    " "
   ]
  },
  {
   "cell_type": "code",
   "execution_count": 4,
   "metadata": {},
   "outputs": [
    {
     "name": "stdout",
     "output_type": "stream",
     "text": [
      "[[219 202 180]\n",
      " [220 203 181]\n",
      " [219 202 180]\n",
      " ...\n",
      " [ 19  13  13]\n",
      " [ 21  15  15]\n",
      " [ 22  15  15]]\n"
     ]
    }
   ],
   "source": [
    "#Display resulting frame\n",
    "img = cv2.cvtColor(img, cv2.COLOR_BGRA2BGR)\n",
    "cv2.imshow('Image',img)\n",
    "img = cv2.cvtColor(img, cv2.COLOR_BGR2RGB)\n",
    "\n",
    "\n",
    "img = np.reshape(img , (-1,3))\n",
    "print((img))\n",
    "\n",
    "\n",
    "cv2.waitKey(0)\n",
    "\n",
    "\n",
    "\n",
    "cv2.destroyAllWindows()"
   ]
  },
  {
   "cell_type": "code",
   "execution_count": 5,
   "metadata": {},
   "outputs": [],
   "source": [
    "dfa = pd.DataFrame({\"Prediction (R, G , B)\" : list(img)})"
   ]
  },
  {
   "cell_type": "code",
   "execution_count": 6,
   "metadata": {},
   "outputs": [
    {
     "data": {
      "text/html": [
       "<div>\n",
       "<style scoped>\n",
       "    .dataframe tbody tr th:only-of-type {\n",
       "        vertical-align: middle;\n",
       "    }\n",
       "\n",
       "    .dataframe tbody tr th {\n",
       "        vertical-align: top;\n",
       "    }\n",
       "\n",
       "    .dataframe thead th {\n",
       "        text-align: right;\n",
       "    }\n",
       "</style>\n",
       "<table border=\"1\" class=\"dataframe\">\n",
       "  <thead>\n",
       "    <tr style=\"text-align: right;\">\n",
       "      <th></th>\n",
       "      <th>Prediction (R, G , B)</th>\n",
       "    </tr>\n",
       "  </thead>\n",
       "  <tbody>\n",
       "    <tr>\n",
       "      <th>0</th>\n",
       "      <td>[219, 202, 180]</td>\n",
       "    </tr>\n",
       "    <tr>\n",
       "      <th>1</th>\n",
       "      <td>[220, 203, 181]</td>\n",
       "    </tr>\n",
       "    <tr>\n",
       "      <th>2</th>\n",
       "      <td>[219, 202, 180]</td>\n",
       "    </tr>\n",
       "    <tr>\n",
       "      <th>3</th>\n",
       "      <td>[220, 203, 181]</td>\n",
       "    </tr>\n",
       "    <tr>\n",
       "      <th>4</th>\n",
       "      <td>[219, 202, 180]</td>\n",
       "    </tr>\n",
       "    <tr>\n",
       "      <th>...</th>\n",
       "      <td>...</td>\n",
       "    </tr>\n",
       "    <tr>\n",
       "      <th>182840</th>\n",
       "      <td>[23, 17, 17]</td>\n",
       "    </tr>\n",
       "    <tr>\n",
       "      <th>182841</th>\n",
       "      <td>[20, 14, 14]</td>\n",
       "    </tr>\n",
       "    <tr>\n",
       "      <th>182842</th>\n",
       "      <td>[19, 13, 13]</td>\n",
       "    </tr>\n",
       "    <tr>\n",
       "      <th>182843</th>\n",
       "      <td>[21, 15, 15]</td>\n",
       "    </tr>\n",
       "    <tr>\n",
       "      <th>182844</th>\n",
       "      <td>[22, 15, 15]</td>\n",
       "    </tr>\n",
       "  </tbody>\n",
       "</table>\n",
       "<p>182845 rows × 1 columns</p>\n",
       "</div>"
      ],
      "text/plain": [
       "       Prediction (R, G , B)\n",
       "0            [219, 202, 180]\n",
       "1            [220, 203, 181]\n",
       "2            [219, 202, 180]\n",
       "3            [220, 203, 181]\n",
       "4            [219, 202, 180]\n",
       "...                      ...\n",
       "182840          [23, 17, 17]\n",
       "182841          [20, 14, 14]\n",
       "182842          [19, 13, 13]\n",
       "182843          [21, 15, 15]\n",
       "182844          [22, 15, 15]\n",
       "\n",
       "[182845 rows x 1 columns]"
      ]
     },
     "execution_count": 6,
     "metadata": {},
     "output_type": "execute_result"
    }
   ],
   "source": [
    "dfa"
   ]
  },
  {
   "cell_type": "code",
   "execution_count": 7,
   "metadata": {},
   "outputs": [],
   "source": [
    "dfa.to_csv('ans_eyepair.csv',index = False)"
   ]
  },
  {
   "cell_type": "code",
   "execution_count": 8,
   "metadata": {},
   "outputs": [
    {
     "data": {
      "text/html": [
       "<div>\n",
       "<style scoped>\n",
       "    .dataframe tbody tr th:only-of-type {\n",
       "        vertical-align: middle;\n",
       "    }\n",
       "\n",
       "    .dataframe tbody tr th {\n",
       "        vertical-align: top;\n",
       "    }\n",
       "\n",
       "    .dataframe thead th {\n",
       "        text-align: right;\n",
       "    }\n",
       "</style>\n",
       "<table border=\"1\" class=\"dataframe\">\n",
       "  <thead>\n",
       "    <tr style=\"text-align: right;\">\n",
       "      <th></th>\n",
       "      <th>Prediction (R, G , B)</th>\n",
       "    </tr>\n",
       "  </thead>\n",
       "  <tbody>\n",
       "    <tr>\n",
       "      <th>0</th>\n",
       "      <td>[219 202 180]</td>\n",
       "    </tr>\n",
       "    <tr>\n",
       "      <th>1</th>\n",
       "      <td>[220 203 181]</td>\n",
       "    </tr>\n",
       "    <tr>\n",
       "      <th>2</th>\n",
       "      <td>[219 202 180]</td>\n",
       "    </tr>\n",
       "    <tr>\n",
       "      <th>3</th>\n",
       "      <td>[220 203 181]</td>\n",
       "    </tr>\n",
       "    <tr>\n",
       "      <th>4</th>\n",
       "      <td>[219 202 180]</td>\n",
       "    </tr>\n",
       "    <tr>\n",
       "      <th>...</th>\n",
       "      <td>...</td>\n",
       "    </tr>\n",
       "    <tr>\n",
       "      <th>182840</th>\n",
       "      <td>[23 17 17]</td>\n",
       "    </tr>\n",
       "    <tr>\n",
       "      <th>182841</th>\n",
       "      <td>[20 14 14]</td>\n",
       "    </tr>\n",
       "    <tr>\n",
       "      <th>182842</th>\n",
       "      <td>[19 13 13]</td>\n",
       "    </tr>\n",
       "    <tr>\n",
       "      <th>182843</th>\n",
       "      <td>[21 15 15]</td>\n",
       "    </tr>\n",
       "    <tr>\n",
       "      <th>182844</th>\n",
       "      <td>[22 15 15]</td>\n",
       "    </tr>\n",
       "  </tbody>\n",
       "</table>\n",
       "<p>182845 rows × 1 columns</p>\n",
       "</div>"
      ],
      "text/plain": [
       "       Prediction (R, G , B)\n",
       "0              [219 202 180]\n",
       "1              [220 203 181]\n",
       "2              [219 202 180]\n",
       "3              [220 203 181]\n",
       "4              [219 202 180]\n",
       "...                      ...\n",
       "182840            [23 17 17]\n",
       "182841            [20 14 14]\n",
       "182842            [19 13 13]\n",
       "182843            [21 15 15]\n",
       "182844            [22 15 15]\n",
       "\n",
       "[182845 rows x 1 columns]"
      ]
     },
     "execution_count": 8,
     "metadata": {},
     "output_type": "execute_result"
    }
   ],
   "source": [
    "df= pd.read_csv(\"ans_eyepair.csv\")\n",
    "df"
   ]
  },
  {
   "cell_type": "code",
   "execution_count": null,
   "metadata": {},
   "outputs": [],
   "source": [
    "     "
   ]
  }
 ],
 "metadata": {
  "kernelspec": {
   "display_name": "Python 3",
   "language": "python",
   "name": "python3"
  },
  "language_info": {
   "codemirror_mode": {
    "name": "ipython",
    "version": 3
   },
   "file_extension": ".py",
   "mimetype": "text/x-python",
   "name": "python",
   "nbconvert_exporter": "python",
   "pygments_lexer": "ipython3",
   "version": "3.8.5"
  }
 },
 "nbformat": 4,
 "nbformat_minor": 2
}
